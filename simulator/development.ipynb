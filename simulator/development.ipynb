{
 "cells": [
  {
   "cell_type": "code",
   "execution_count": 2,
   "metadata": {},
   "outputs": [],
   "source": [
    "import simulator\n",
    "import numpy as np\n",
    "import matplotlib.pyplot as plt\n",
    "import pandas as pd\n",
    "\n",
    "kwargs = {\n",
    "    \"shape\":(6,6),                      # (6 time points, 6 values per timepoint)\n",
    "    \"sample_noise_dist\": \"uniform\",     # ~ U[lower bound, upper bound]\n",
    "    \"signal_func_type\": \"sigmoid\",      \n",
    "    \"noise_func_type\": \"sigmoid\",\n",
    "    \"correlation_type\": \"pearson\"\n",
    "}"
   ]
  },
  {
   "cell_type": "code",
   "execution_count": null,
   "metadata": {},
   "outputs": [],
   "source": [
    "for i in range(1,10):\n",
    "    sim = simulator.Simulator(**kwargs)\n",
    "    timepoints = sim.set_timepoints([0,1,1,0,0,0])\n",
    "    data = sim.generate_data()\n",
    "    corr = sim.calculate_correlations()\n",
    "    plt.scatter(np.linspace(0,5,6), corr)\n",
    "    \n",
    "plt.show()"
   ]
  },
  {
   "cell_type": "code",
   "execution_count": null,
   "metadata": {},
   "outputs": [],
   "source": [
    "x_generated = sim.x_range\n",
    "for i in range(len(data)):\n",
    "    tpts = sim.timepoints\n",
    "\n",
    "    if tpts[i] == 0:\n",
    "        plt.scatter(x_generated, data[i])\n",
    "    else:\n",
    "        plt.scatter(x_generated, data[i])\n",
    "\n",
    "actual_x = np.linspace(30, 70, 40)\n",
    "actual_y = sim.sigmoid(actual_x, 45, 1)\n",
    "plt.plot(actual_x, actual_y)\n",
    "\n",
    "plt.show()"
   ]
  },
  {
   "cell_type": "code",
   "execution_count": 14,
   "metadata": {},
   "outputs": [],
   "source": [
    "# Actual proteasome correlations\n",
    "proteasome_corr = pd.read_csv(\"../data/TPP_proteasome_correlations.csv\")\n",
    "\n",
    "# Filtering for PSMA1 PSMA2 interactions\n",
    "psma1 = proteasome_corr[proteasome_corr[\"bait\"] == \"PSMA1\"]\n",
    "psma1_psma2 = psma1[psma1[\"prey\"] == \"PSMA2\"]\n",
    "psma1_psma2.reset_index(inplace=True, drop=True)"
   ]
  },
  {
   "cell_type": "code",
   "execution_count": 18,
   "metadata": {},
   "outputs": [
    {
     "data": {
      "text/html": [
       "<div>\n",
       "<style scoped>\n",
       "    .dataframe tbody tr th:only-of-type {\n",
       "        vertical-align: middle;\n",
       "    }\n",
       "\n",
       "    .dataframe tbody tr th {\n",
       "        vertical-align: top;\n",
       "    }\n",
       "\n",
       "    .dataframe thead th {\n",
       "        text-align: right;\n",
       "    }\n",
       "</style>\n",
       "<table border=\"1\" class=\"dataframe\">\n",
       "  <thead>\n",
       "    <tr style=\"text-align: right;\">\n",
       "      <th></th>\n",
       "      <th>bait</th>\n",
       "      <th>prey</th>\n",
       "      <th>t</th>\n",
       "      <th>corr</th>\n",
       "    </tr>\n",
       "  </thead>\n",
       "  <tbody>\n",
       "    <tr>\n",
       "      <th>0</th>\n",
       "      <td>PSMA1</td>\n",
       "      <td>PSMA2</td>\n",
       "      <td>earlyS.median</td>\n",
       "      <td>0.294546</td>\n",
       "    </tr>\n",
       "    <tr>\n",
       "      <th>1</th>\n",
       "      <td>PSMA1</td>\n",
       "      <td>PSMA2</td>\n",
       "      <td>lateS.median</td>\n",
       "      <td>-0.468418</td>\n",
       "    </tr>\n",
       "    <tr>\n",
       "      <th>2</th>\n",
       "      <td>PSMA1</td>\n",
       "      <td>PSMA2</td>\n",
       "      <td>S_G2.median</td>\n",
       "      <td>-0.119400</td>\n",
       "    </tr>\n",
       "    <tr>\n",
       "      <th>3</th>\n",
       "      <td>PSMA1</td>\n",
       "      <td>PSMA2</td>\n",
       "      <td>M.median</td>\n",
       "      <td>0.622651</td>\n",
       "    </tr>\n",
       "    <tr>\n",
       "      <th>4</th>\n",
       "      <td>PSMA1</td>\n",
       "      <td>PSMA2</td>\n",
       "      <td>G1.median</td>\n",
       "      <td>0.531029</td>\n",
       "    </tr>\n",
       "    <tr>\n",
       "      <th>5</th>\n",
       "      <td>PSMA1</td>\n",
       "      <td>PSMA2</td>\n",
       "      <td>asynch.median</td>\n",
       "      <td>-0.043661</td>\n",
       "    </tr>\n",
       "  </tbody>\n",
       "</table>\n",
       "</div>"
      ],
      "text/plain": [
       "    bait   prey              t      corr\n",
       "0  PSMA1  PSMA2  earlyS.median  0.294546\n",
       "1  PSMA1  PSMA2   lateS.median -0.468418\n",
       "2  PSMA1  PSMA2    S_G2.median -0.119400\n",
       "3  PSMA1  PSMA2       M.median  0.622651\n",
       "4  PSMA1  PSMA2      G1.median  0.531029\n",
       "5  PSMA1  PSMA2  asynch.median -0.043661"
      ]
     },
     "execution_count": 18,
     "metadata": {},
     "output_type": "execute_result"
    }
   ],
   "source": [
    "psma1_psma2"
   ]
  },
  {
   "cell_type": "code",
   "execution_count": 25,
   "metadata": {},
   "outputs": [
    {
     "data": {
      "image/png": "[encoded data removed]",
      "text/plain": [
       "<Figure size 576x360 with 1 Axes>"
      ]
     },
     "metadata": {
      "needs_background": "light"
     },
     "output_type": "display_data"
    }
   ],
   "source": [
    "unique_prey = psma1[\"prey\"].unique().tolist()\n",
    "NUM_PREY = len(unique_prey)\n",
    "\n",
    "plt.figure(figsize=(8,5))\n",
    "\n",
    "for i in range(NUM_PREY):\n",
    "    psma1_prey = psma1[psma1[\"prey\"] == unique_prey[i]]\n",
    "    psma1_prey.reset_index(inplace=True, drop=True)\n",
    "\n",
    "    plt.scatter(psma1_prey[\"t\"], psma1_prey[\"corr\"])\n",
    "\n",
    "plt.title(\"All PSMA1-X Correlations\")\n",
    "plt.show()"
   ]
  },
  {
   "cell_type": "code",
   "execution_count": null,
   "metadata": {},
   "outputs": [],
   "source": []
  }
 ],
 "metadata": {
  "interpreter": {
   "hash": "ac2eaa0ea0ebeafcc7822e65e46aa9d4f966f30b695406963e145ea4a91cd4fc"
  },
  "kernelspec": {
   "display_name": "Python 3.9.7 64-bit",
   "language": "python",
   "name": "python3"
  },
  "language_info": {
   "codemirror_mode": {
    "name": "ipython",
    "version": 3
   },
   "file_extension": ".py",
   "mimetype": "text/x-python",
   "name": "python",
   "nbconvert_exporter": "python",
   "pygments_lexer": "ipython3",
   "version": "3.9.12"
  },
  "orig_nbformat": 4
 },
 "nbformat": 4,
 "nbformat_minor": 2
}
