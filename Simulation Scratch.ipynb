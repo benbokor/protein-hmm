{
 "cells": [
  {
   "cell_type": "code",
   "execution_count": 2,
   "id": "dd7c353a",
   "metadata": {},
   "outputs": [],
   "source": [
    "import numpy as np\n",
    "import numpy.typing as npt\n",
    "import matplotlib.pyplot as plt\n",
    "import math"
   ]
  },
  {
   "cell_type": "code",
   "execution_count": 5,
   "id": "abc71b98",
   "metadata": {},
   "outputs": [],
   "source": [
    "class Simulator():\n",
    "    def __init__(self, timepoints: npt.ArrayLike, sample_noise_dist: str, signal_func_type: str, noise_func_type: str):\n",
    "        self.timepoints = timepoints\n",
    "        self.sample_noise_dist = sample_noise_dist\n",
    "        self.signal_func_type = signal_func_type\n",
    "        self.noise_func_type = noise_func_type\n",
    "\n",
    "        self.upper_bound = 70\n",
    "        self.lower_bound = 30\n",
    "        self.data = None\n",
    "        self.signal_func = None\n",
    "        self.noise_func = None\n",
    "\n",
    "\n",
    "    # Internal Function Definitions\n",
    "    def affine(self, intercept, slope):\n",
    "        return slope * np.arange(self.lower_bound, self.upper_bound) + intercept\n",
    "\n",
    "    def linear(self, slope):\n",
    "        return self.affine(self, 0, slope)\n",
    "\n",
    "    def sigmoid(x, inflection_point, max_val):\n",
    "        # Make this a proper numpy operation later\n",
    "        a = []\n",
    "        for item in x:\n",
    "            a.append(max_val/(1+math.exp(item - inflection_point)))\n",
    "        return a\n",
    "\n",
    "\n",
    "    # Data Generation\n",
    "    def generate_correlated_func(self):\n",
    "        # ???\n",
    "        if self.signal_func_type == \"sigmoid\":\n",
    "            sigmoid(np.arange(self.lower_bound, self.upper_bound), 45, 1)\n",
    "\n",
    "    def generate_uncorrelated_func(self):\n",
    "        if signal_func is None:\n",
    "            self.signal_func = generate_correlated_func(self)\n",
    "\n",
    "        if self.noise_func_type == \"sigmoid\":\n",
    "            return sigmoid(np.arange(self.lower_bound, self.upper_bound), 45, 1)\n",
    "\n",
    "    def generate_data(self, inflection_point) -> npt.ArrayLike:\n",
    "        if self.signal_func_type == \"affine_zero_slope\":\n",
    "            print(\"Inflection point will be ignored\")\n",
    "\n",
    "        corr_function = generate_correlated_function(self)\n",
    "\n",
    "        self.data = []\n",
    "        for pt in self.timepoints:\n",
    "            if pt == 0:\n",
    "                print(pt)\n",
    "                self.data.append(pt)\n",
    "            if pt == 1:\n",
    "                print(pt)\n",
    "                self.data.append(pt)\n",
    "\n",
    "\n",
    "    # Plotting\n",
    "    def show_plots_overlapping(self):\n",
    "        \"\"\"\n",
    "        Show overlapping plots of timepoints\n",
    "        \"\"\"\n",
    "        if self.data is None:\n",
    "            print(\"Data is not defined, please call generate_data() first\")"
   ]
  },
  {
   "cell_type": "code",
   "execution_count": 6,
   "id": "56632b4f",
   "metadata": {},
   "outputs": [
    {
     "name": "stdout",
     "output_type": "stream",
     "text": [
      "0\n",
      "1\n",
      "1\n",
      "0\n",
      "[0, 1, 1, 0]\n"
     ]
    }
   ],
   "source": [
    "sim = Simulator(np.array([0,1,1,0]), sample_noise_dist=\"uniform\", signal_func=\"sigmoid\")\n",
    "sim.generate_data(45)\n",
    "print(sim.data)"
   ]
  },
  {
   "cell_type": "code",
   "execution_count": 9,
   "id": "3ae471a5",
   "metadata": {},
   "outputs": [
    {
     "data": {
      "image/png": "[encoded data removed]",
      "text/plain": [
       "<Figure size 432x288 with 1 Axes>"
      ]
     },
     "metadata": {
      "needs_background": "light"
     },
     "output_type": "display_data"
    }
   ],
   "source": [
    "\n",
    "\n",
    "def sigmoid(x, melting_point, k):\n",
    "    a = []\n",
    "    for item in x:\n",
    "        a.append(k/(1+math.exp(item - melting_point)))\n",
    "    return a\n",
    "\n",
    "import matplotlib.pyplot as plt\n",
    "import numpy as np\n",
    "\n",
    "x = np.linspace(start=33, stop=66, num=100)\n",
    "a = sigmoid(x, melting_point=45, k=1)\n",
    "b = sigmoid(x, melting_point=50, k=0.8)\n",
    "plt.plot(x,a)\n",
    "plt.plot(x,b)\n",
    "plt.xlabel(\"Temperature (Celsius)\")\n",
    "plt.ylabel(\"Dissociation\")\n",
    "plt.legend([\"Protein A\", \"Protein B\"])\n",
    "plt.savefig(\"sigmoid.png\")\n",
    "plt.show()"
   ]
  },
  {
   "cell_type": "code",
   "execution_count": 4,
   "id": "a08b0f36",
   "metadata": {},
   "outputs": [
    {
     "data": {
      "text/plain": [
       "0.8359126242297149"
      ]
     },
     "execution_count": 4,
     "metadata": {},
     "output_type": "execute_result"
    }
   ],
   "source": [
    "np.random.random()"
   ]
  },
  {
   "cell_type": "code",
   "execution_count": 10,
   "id": "39372e1b",
   "metadata": {},
   "outputs": [
    {
     "data": {
      "image/png": "[encoded data removed]",
      "text/plain": [
       "<Figure size 432x288 with 1 Axes>"
      ]
     },
     "metadata": {
      "needs_background": "light"
     },
     "output_type": "display_data"
    }
   ],
   "source": [
    "sampling = np.linspace(33, 66, num=6)\n",
    "def sigmoid_sampling(x, melting_point, k):\n",
    "    a = []\n",
    "    for item in x:\n",
    "        a.append(\n",
    "            k/(1+math.exp(item - melting_point)) + 0.1*(np.random.random())\n",
    "        )\n",
    "    return a\n",
    "\n",
    "a_samp = sigmoid_sampling(sampling, melting_point=45, k=1)\n",
    "b_samp = sigmoid_sampling(sampling, melting_point=50, k=0.8)\n",
    "plt.scatter(sampling, a_samp)\n",
    "plt.scatter(sampling, b_samp)\n",
    "plt.xlabel(\"Temperature (Celsius)\")\n",
    "plt.ylabel(\"Dissociation\")\n",
    "plt.legend([\"Protein A Sampling\", \"Protein B Sampling\"])\n",
    "plt.savefig(\"sigmoid_sampling_with_noise.png\")\n",
    "plt.show()"
   ]
  },
  {
   "cell_type": "code",
   "execution_count": 6,
   "id": "4c9f2c32",
   "metadata": {},
   "outputs": [
    {
     "data": {
      "image/png": "[encoded data removed]",
      "text/plain": [
       "<Figure size 432x288 with 1 Axes>"
      ]
     },
     "metadata": {
      "needs_background": "light"
     },
     "output_type": "display_data"
    }
   ],
   "source": [
    "x = np.linspace(start=33, stop=66, num=6)\n",
    "y = np.zeros(6) + 0.2\n",
    "plt.plot(x,y)\n",
    "\n",
    "plt.xlabel(\"Temperature (Celsius)\")\n",
    "plt.ylabel(\"Dissociation\")\n",
    "plt.savefig(\"zero_slope.png\")"
   ]
  },
  {
   "cell_type": "code",
   "execution_count": 7,
   "id": "12c1062c",
   "metadata": {},
   "outputs": [
    {
     "data": {
      "image/png": "[encoded data removed]",
      "text/plain": [
       "<Figure size 432x288 with 1 Axes>"
      ]
     },
     "metadata": {
      "needs_background": "light"
     },
     "output_type": "display_data"
    }
   ],
   "source": [
    "x = np.linspace(start=33, stop=66, num=6)\n",
    "y = np.zeros(6) + 0.24\n",
    "\n",
    "def noise_sampling(mean, num):\n",
    "    a = []\n",
    "    for i in range(num):\n",
    "        a.append(mean + 0.1*(np.random.random()))\n",
    "        \n",
    "    return a\n",
    "\n",
    "_y = noise_sampling(0.2, 6)\n",
    "plt.plot(x,y)\n",
    "plt.scatter(x, _y)\n",
    "plt.xlabel(\"Temperature (Celsius)\")\n",
    "plt.ylabel(\"Dissociation\")\n",
    "plt.savefig(\"zero_slope_sampling_with_noise.png\")"
   ]
  },
  {
   "cell_type": "code",
   "execution_count": null,
   "id": "b0885f67",
   "metadata": {},
   "outputs": [],
   "source": []
  }
 ],
 "metadata": {
  "kernelspec": {
   "display_name": "Python 3 (ipykernel)",
   "language": "python",
   "name": "python3"
  },
  "language_info": {
   "codemirror_mode": {
    "name": "ipython",
    "version": 3
   },
   "file_extension": ".py",
   "mimetype": "text/x-python",
   "name": "python",
   "nbconvert_exporter": "python",
   "pygments_lexer": "ipython3",
   "version": "3.7.9"
  }
 },
 "nbformat": 4,
 "nbformat_minor": 5
}
